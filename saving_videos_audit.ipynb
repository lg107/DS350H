{
 "cells": [
  {
   "cell_type": "code",
   "execution_count": null,
   "metadata": {},
   "outputs": [],
   "source": [
    "# The tiktok-like-experiment/page_objects folder should contain PageTiktok.py.\n",
    "# When you run the code, data ends up in the tiktok-like-experiment/data folder."
   ]
  },
  {
   "cell_type": "code",
   "execution_count": null,
   "metadata": {},
   "outputs": [],
   "source": [
    "from seleniumbase import Driver\n",
    "from selenium.webdriver.common.by import By # contains operators for the type of search we want to do\n",
    "import time\n",
    "from seleniumbase import BaseCase\n",
    "from random import randint\n",
    "from selenium.common.exceptions import ElementClickInterceptedException, StaleElementReferenceException, NoSuchElementException\n",
    "from selenium.webdriver.common.action_chains import ActionChains\n",
    "import html\n",
    "import re\n",
    "import numpy as np\n",
    "import csv\n",
    "from datetime import datetime\n",
    "import os.path"
   ]
  },
  {
   "cell_type": "code",
   "execution_count": null,
   "metadata": {},
   "outputs": [],
   "source": [
    "from page_objects.PageTiktok import PageTiktok\n",
    "import time\n",
    "\n",
    "class TiktokAudit(PageTiktok):\n",
    "\n",
    "    def test_save_random(self): # Experimental\n",
    "        self.fetch_tiktok()\n",
    "        self.iterate_through_batches_save_random()\n",
    "        time.sleep(10)\n",
    "    \n",
    "    def test_control(self): # Control \n",
    "        self.fetch_tiktok()\n",
    "        self.iterate_through_batches_control()\n",
    "        time.sleep(10)"
   ]
  },
  {
   "cell_type": "code",
   "execution_count": null,
   "metadata": {
    "scrolled": true
   },
   "outputs": [],
   "source": [
    "%%time\n",
    "# When you run this cell, manually log into EXPERIMENTAL account\n",
    "experimental_audit = TiktokAudit()\n",
    "\n",
    "for i in range(5):\n",
    "    print(f\"=========== SAVING EXPERIMENT RUN #{i} ===========\")\n",
    "    experimental_audit.test_save_random()"
   ]
  },
  {
   "cell_type": "code",
   "execution_count": null,
   "metadata": {},
   "outputs": [],
   "source": [
    "%%time\n",
    "# When you run this cell, manually log into the CONTROL account\n",
    "control_audit = TiktokAudit()\n",
    "\n",
    "for i in range(5):\n",
    "    print(f\"=========== CONTROL EXPERIMENT RUN #{i} ===========\")\n",
    "    control_audit.test_control()"
   ]
  }
 ],
 "metadata": {
  "kernelspec": {
   "display_name": "Python 3 (ipykernel)",
   "language": "python",
   "name": "python3"
  },
  "language_info": {
   "codemirror_mode": {
    "name": "ipython",
    "version": 3
   },
   "file_extension": ".py",
   "mimetype": "text/x-python",
   "name": "python",
   "nbconvert_exporter": "python",
   "pygments_lexer": "ipython3",
   "version": "3.10.8"
  }
 },
 "nbformat": 4,
 "nbformat_minor": 2
}
